{
 "cells": [
  {
   "cell_type": "code",
   "execution_count": 1,
   "id": "5e766626-1b29-4b41-a73b-abb073e09eed",
   "metadata": {},
   "outputs": [],
   "source": [
    "import tensorflow as tf\n",
    "import numpy as np\n",
    "%matplotlib inline\n",
    "import matplotlib.pyplot as plt\n",
    "import math"
   ]
  },
  {
   "cell_type": "code",
   "execution_count": 2,
   "id": "825002c6-b57e-453b-8a4e-b64daf6f8188",
   "metadata": {},
   "outputs": [],
   "source": [
    "mnist = tf.keras.datasets.mnist\n",
    "(x_train, y_train), (x_test, y_test) = mnist.load_data()\n",
    "x_train, x_test = x_train / 255.0, x_test / 255.0"
   ]
  },
  {
   "cell_type": "code",
   "execution_count": 3,
   "id": "2a439806-2368-4cfc-b00d-590da40b8f21",
   "metadata": {},
   "outputs": [],
   "source": [
    "x_train=np.expand_dims(x_train, axis = -1)\n",
    "x_test=np.expand_dims(x_test, axis = -1)"
   ]
  },
  {
   "cell_type": "code",
   "execution_count": 4,
   "id": "2d4af9f3-d2ec-46be-8e82-582668dfab03",
   "metadata": {},
   "outputs": [
    {
     "name": "stderr",
     "output_type": "stream",
     "text": [
      "C:\\Users\\USER\\anaconda3\\Lib\\site-packages\\keras\\src\\layers\\convolutional\\base_conv.py:99: UserWarning: Do not pass an `input_shape`/`input_dim` argument to a layer. When using Sequential models, prefer using an `Input(shape)` object as the first layer in the model instead.\n",
      "  super().__init__(\n"
     ]
    }
   ],
   "source": [
    "# 모델 정의\n",
    "# 은닉 계층 수 2\n",
    "model = tf.keras.models.Sequential([\n",
    "   tf.keras.layers.Conv2D(filters=32, kernel_size=(3,3), strides=(1,1), padding='same',\n",
    "                          activation='relu', input_shape=(28, 28,1)),\n",
    "   tf.keras.layers.MaxPool2D(pool_size=(2,2), strides=(2,2), padding='same'),\n",
    "   tf.keras.layers.Conv2D(filters=16, kernel_size=(2,2), strides=(1,1), padding='same', \n",
    "                          activation='relu'),\n",
    "   tf.keras.layers.MaxPool2D(pool_size=(2,2), strides=(2,2), padding='same'),\n",
    "   tf.keras.layers.Flatten(),\n",
    "   tf.keras.layers.Dense(10, activation='softmax')\n",
    "])"
   ]
  },
  {
   "cell_type": "code",
   "execution_count": 5,
   "id": "da7fed0a-cda1-4ced-9ae2-bc778660134c",
   "metadata": {},
   "outputs": [
    {
     "name": "stdout",
     "output_type": "stream",
     "text": [
      "Epoch 1/5\n",
      "\u001b[1m1875/1875\u001b[0m \u001b[32m━━━━━━━━━━━━━━━━━━━━\u001b[0m\u001b[37m\u001b[0m \u001b[1m4s\u001b[0m 2ms/step - accuracy: 0.8386 - loss: 0.5204\n",
      "Epoch 2/5\n",
      "\u001b[1m1875/1875\u001b[0m \u001b[32m━━━━━━━━━━━━━━━━━━━━\u001b[0m\u001b[37m\u001b[0m \u001b[1m3s\u001b[0m 2ms/step - accuracy: 0.9727 - loss: 0.0908\n",
      "Epoch 3/5\n",
      "\u001b[1m1875/1875\u001b[0m \u001b[32m━━━━━━━━━━━━━━━━━━━━\u001b[0m\u001b[37m\u001b[0m \u001b[1m3s\u001b[0m 2ms/step - accuracy: 0.9805 - loss: 0.0636\n",
      "Epoch 4/5\n",
      "\u001b[1m1875/1875\u001b[0m \u001b[32m━━━━━━━━━━━━━━━━━━━━\u001b[0m\u001b[37m\u001b[0m \u001b[1m4s\u001b[0m 2ms/step - accuracy: 0.9842 - loss: 0.0515\n",
      "Epoch 5/5\n",
      "\u001b[1m1875/1875\u001b[0m \u001b[32m━━━━━━━━━━━━━━━━━━━━\u001b[0m\u001b[37m\u001b[0m \u001b[1m3s\u001b[0m 2ms/step - accuracy: 0.9866 - loss: 0.0418\n"
     ]
    },
    {
     "data": {
      "text/plain": [
       "<keras.src.callbacks.history.History at 0x270989b1a50>"
      ]
     },
     "execution_count": 5,
     "metadata": {},
     "output_type": "execute_result"
    }
   ],
   "source": [
    "model.compile(optimizer='adam',loss='sparse_categorical_crossentropy',\n",
    "              metrics=['accuracy'])\n",
    "model.fit(x_train, y_train, epochs=5, verbose=1)"
   ]
  },
  {
   "cell_type": "code",
   "execution_count": 6,
   "id": "cd2cf818-bd58-4366-b397-ff30228111f3",
   "metadata": {},
   "outputs": [
    {
     "name": "stdout",
     "output_type": "stream",
     "text": [
      "313/313 - 0s - 1ms/step - accuracy: 0.9848 - loss: 0.0447\n"
     ]
    },
    {
     "data": {
      "text/plain": [
       "[0.04472920298576355, 0.9847999811172485]"
      ]
     },
     "execution_count": 6,
     "metadata": {},
     "output_type": "execute_result"
    }
   ],
   "source": [
    "model.evaluate(x_test,  y_test, verbose=2)"
   ]
  },
  {
   "cell_type": "code",
   "execution_count": 7,
   "id": "639bcbd0-8e79-4ea0-94d3-99bf84a49930",
   "metadata": {},
   "outputs": [],
   "source": [
    "# 모델 정의\n",
    "# 활성함수 Sigmoid 사용\n",
    "model = tf.keras.models.Sequential([\n",
    "   tf.keras.layers.Conv2D(filters=32, kernel_size=(3,3), strides=(1,1), padding='same',\n",
    "                          activation='sigmoid', input_shape=(28, 28,1)),\n",
    "   tf.keras.layers.MaxPool2D(pool_size=(2,2), strides=(2,2), padding='same'),\n",
    "   tf.keras.layers.Conv2D(filters=16, kernel_size=(2,2), strides=(1,1), padding='same', \n",
    "                          activation='sigmoid'),\n",
    "   tf.keras.layers.MaxPool2D(pool_size=(2,2), strides=(2,2), padding='same'),\n",
    "   tf.keras.layers.Flatten(),\n",
    "   tf.keras.layers.Dense(10, activation='softmax')\n",
    "])"
   ]
  },
  {
   "cell_type": "code",
   "execution_count": 8,
   "id": "71ffa4e4-056f-4dea-b855-6788ab268a90",
   "metadata": {},
   "outputs": [
    {
     "name": "stdout",
     "output_type": "stream",
     "text": [
      "Epoch 1/5\n",
      "\u001b[1m1875/1875\u001b[0m \u001b[32m━━━━━━━━━━━━━━━━━━━━\u001b[0m\u001b[37m\u001b[0m \u001b[1m4s\u001b[0m 2ms/step - accuracy: 0.4520 - loss: 1.5504\n",
      "Epoch 2/5\n",
      "\u001b[1m1875/1875\u001b[0m \u001b[32m━━━━━━━━━━━━━━━━━━━━\u001b[0m\u001b[37m\u001b[0m \u001b[1m4s\u001b[0m 2ms/step - accuracy: 0.8961 - loss: 0.3417\n",
      "Epoch 3/5\n",
      "\u001b[1m1875/1875\u001b[0m \u001b[32m━━━━━━━━━━━━━━━━━━━━\u001b[0m\u001b[37m\u001b[0m \u001b[1m3s\u001b[0m 2ms/step - accuracy: 0.9259 - loss: 0.2456\n",
      "Epoch 4/5\n",
      "\u001b[1m1875/1875\u001b[0m \u001b[32m━━━━━━━━━━━━━━━━━━━━\u001b[0m\u001b[37m\u001b[0m \u001b[1m4s\u001b[0m 2ms/step - accuracy: 0.9462 - loss: 0.1815\n",
      "Epoch 5/5\n",
      "\u001b[1m1875/1875\u001b[0m \u001b[32m━━━━━━━━━━━━━━━━━━━━\u001b[0m\u001b[37m\u001b[0m \u001b[1m4s\u001b[0m 2ms/step - accuracy: 0.9595 - loss: 0.1371\n"
     ]
    },
    {
     "data": {
      "text/plain": [
       "<keras.src.callbacks.history.History at 0x1d7070e84d0>"
      ]
     },
     "execution_count": 8,
     "metadata": {},
     "output_type": "execute_result"
    }
   ],
   "source": [
    "model.compile(optimizer='adam',loss='sparse_categorical_crossentropy',\n",
    "              metrics=['accuracy'])\n",
    "model.fit(x_train, y_train, epochs=5, verbose=1)"
   ]
  },
  {
   "cell_type": "code",
   "execution_count": 9,
   "id": "caf57926-f13c-4e6b-ab9e-dbf62040c514",
   "metadata": {},
   "outputs": [
    {
     "name": "stdout",
     "output_type": "stream",
     "text": [
      "313/313 - 0s - 1ms/step - accuracy: 0.9661 - loss: 0.1114\n"
     ]
    },
    {
     "data": {
      "text/plain": [
       "[0.11137153953313828, 0.9660999774932861]"
      ]
     },
     "execution_count": 9,
     "metadata": {},
     "output_type": "execute_result"
    }
   ],
   "source": [
    "model.evaluate(x_test,  y_test, verbose=2)"
   ]
  },
  {
   "cell_type": "code",
   "execution_count": null,
   "id": "39dc0eac-e2e2-4128-9fe5-9f3e054b526c",
   "metadata": {},
   "outputs": [],
   "source": [
    "# 모델 정의\n",
    "model = tf.keras.models.Sequential([\n",
    "   tf.keras.layers.Conv2D(filters=32, kernel_size=(3,3), strides=(1,1), padding='same',\n",
    "                          activation='relu', input_shape=(28, 28,1)),\n",
    "   tf.keras.layers.MaxPool2D(pool_size=(2,2), strides=(2,2), padding='same'),\n",
    "   tf.keras.layers.Conv2D(filters=16, kernel_size=(2,2), strides=(1,1), padding='same', \n",
    "                          activation='relu'),\n",
    "   tf.keras.layers.MaxPool2D(pool_size=(2,2), strides=(2,2), padding='same'),\n",
    "   tf.keras.layers.Flatten(),\n",
    "   tf.keras.layers.Dense(10, activation='softmax')\n",
    "])"
   ]
  },
  {
   "cell_type": "code",
   "execution_count": 21,
   "id": "f62261da-7f03-423c-ab49-b0367d463472",
   "metadata": {},
   "outputs": [],
   "source": [
    "# 모델 정의\n",
    "# 은닉 계층 수 3\n",
    "model = tf.keras.models.Sequential([\n",
    "   tf.keras.layers.Conv2D(filters=32, kernel_size=(3,3), strides=(1,1), padding='same',\n",
    "                          activation='relu', input_shape=(28, 28,1)),\n",
    "   tf.keras.layers.MaxPool2D(pool_size=(2,2), strides=(2,2), padding='same'),\n",
    "   tf.keras.layers.Conv2D(filters=32, kernel_size=(2,2), strides=(1,1), padding='same', \n",
    "                          activation='relu'),\n",
    "   tf.keras.layers.MaxPool2D(pool_size=(2,2), strides=(2,2), padding='same'),\n",
    "   tf.keras.layers.Conv2D(filters=16, kernel_size=(2,2), strides=(1,1), padding='same', \n",
    "                          activation='relu'),  # 새로운 은닉 계층 추가\n",
    "   tf.keras.layers.MaxPool2D(pool_size=(2,2), strides=(2,2), padding='same'),\n",
    "   tf.keras.layers.Flatten(),\n",
    "   tf.keras.layers.Dense(10, activation='softmax')\n",
    "])"
   ]
  },
  {
   "cell_type": "code",
   "execution_count": 22,
   "id": "08d649da-8aaf-4185-b16c-5321ad3df9ad",
   "metadata": {},
   "outputs": [
    {
     "name": "stdout",
     "output_type": "stream",
     "text": [
      "Epoch 1/5\n",
      "\u001b[1m1875/1875\u001b[0m \u001b[32m━━━━━━━━━━━━━━━━━━━━\u001b[0m\u001b[37m\u001b[0m \u001b[1m5s\u001b[0m 2ms/step - accuracy: 0.8119 - loss: 0.5843\n",
      "Epoch 2/5\n",
      "\u001b[1m1875/1875\u001b[0m \u001b[32m━━━━━━━━━━━━━━━━━━━━\u001b[0m\u001b[37m\u001b[0m \u001b[1m5s\u001b[0m 2ms/step - accuracy: 0.9745 - loss: 0.0848\n",
      "Epoch 3/5\n",
      "\u001b[1m1875/1875\u001b[0m \u001b[32m━━━━━━━━━━━━━━━━━━━━\u001b[0m\u001b[37m\u001b[0m \u001b[1m4s\u001b[0m 2ms/step - accuracy: 0.9804 - loss: 0.0630\n",
      "Epoch 4/5\n",
      "\u001b[1m1875/1875\u001b[0m \u001b[32m━━━━━━━━━━━━━━━━━━━━\u001b[0m\u001b[37m\u001b[0m \u001b[1m4s\u001b[0m 2ms/step - accuracy: 0.9851 - loss: 0.0459\n",
      "Epoch 5/5\n",
      "\u001b[1m1875/1875\u001b[0m \u001b[32m━━━━━━━━━━━━━━━━━━━━\u001b[0m\u001b[37m\u001b[0m \u001b[1m5s\u001b[0m 2ms/step - accuracy: 0.9868 - loss: 0.0437\n"
     ]
    },
    {
     "data": {
      "text/plain": [
       "<keras.src.callbacks.history.History at 0x270cc9ce510>"
      ]
     },
     "execution_count": 22,
     "metadata": {},
     "output_type": "execute_result"
    }
   ],
   "source": [
    "model.compile(optimizer='adam',loss='sparse_categorical_crossentropy',\n",
    "              metrics=['accuracy'])\n",
    "model.fit(x_train, y_train, epochs=5, verbose=1)"
   ]
  },
  {
   "cell_type": "code",
   "execution_count": 23,
   "id": "18d929cc-cce3-4096-96b6-06f5020e86a5",
   "metadata": {},
   "outputs": [
    {
     "name": "stdout",
     "output_type": "stream",
     "text": [
      "313/313 - 0s - 1ms/step - accuracy: 0.9885 - loss: 0.0357\n"
     ]
    },
    {
     "data": {
      "text/plain": [
       "[0.035713620483875275, 0.9884999990463257]"
      ]
     },
     "execution_count": 23,
     "metadata": {},
     "output_type": "execute_result"
    }
   ],
   "source": [
    "model.evaluate(x_test,  y_test, verbose=2)"
   ]
  },
  {
   "cell_type": "code",
   "execution_count": 10,
   "id": "2dc9e2a6-b406-4c97-8682-42e8eca0d56f",
   "metadata": {},
   "outputs": [],
   "source": [
    "# 모델 정의\n",
    "# 은닉 계층 수 1\n",
    "model = tf.keras.models.Sequential([\n",
    "   tf.keras.layers.Conv2D(filters=32, kernel_size=(3,3), strides=(1,1), padding='same',\n",
    "                          activation='relu', input_shape=(28, 28,1)),\n",
    "   tf.keras.layers.MaxPool2D(pool_size=(2,2), strides=(2,2), padding='same'),\n",
    "   tf.keras.layers.Flatten(),\n",
    "   tf.keras.layers.Dense(10, activation='softmax')\n",
    "])"
   ]
  },
  {
   "cell_type": "code",
   "execution_count": 11,
   "id": "95d7e598-403c-4cf9-a865-bd9b10df1422",
   "metadata": {},
   "outputs": [
    {
     "name": "stdout",
     "output_type": "stream",
     "text": [
      "Epoch 1/5\n",
      "\u001b[1m1875/1875\u001b[0m \u001b[32m━━━━━━━━━━━━━━━━━━━━\u001b[0m\u001b[37m\u001b[0m \u001b[1m3s\u001b[0m 1ms/step - accuracy: 0.8860 - loss: 0.3981\n",
      "Epoch 2/5\n",
      "\u001b[1m1875/1875\u001b[0m \u001b[32m━━━━━━━━━━━━━━━━━━━━\u001b[0m\u001b[37m\u001b[0m \u001b[1m2s\u001b[0m 1ms/step - accuracy: 0.9768 - loss: 0.0824\n",
      "Epoch 3/5\n",
      "\u001b[1m1875/1875\u001b[0m \u001b[32m━━━━━━━━━━━━━━━━━━━━\u001b[0m\u001b[37m\u001b[0m \u001b[1m2s\u001b[0m 1ms/step - accuracy: 0.9825 - loss: 0.0584\n",
      "Epoch 4/5\n",
      "\u001b[1m1875/1875\u001b[0m \u001b[32m━━━━━━━━━━━━━━━━━━━━\u001b[0m\u001b[37m\u001b[0m \u001b[1m2s\u001b[0m 1ms/step - accuracy: 0.9856 - loss: 0.0492\n",
      "Epoch 5/5\n",
      "\u001b[1m1875/1875\u001b[0m \u001b[32m━━━━━━━━━━━━━━━━━━━━\u001b[0m\u001b[37m\u001b[0m \u001b[1m2s\u001b[0m 1ms/step - accuracy: 0.9876 - loss: 0.0419\n"
     ]
    },
    {
     "data": {
      "text/plain": [
       "<keras.src.callbacks.history.History at 0x270a72c7750>"
      ]
     },
     "execution_count": 11,
     "metadata": {},
     "output_type": "execute_result"
    }
   ],
   "source": [
    "model.compile(optimizer='adam',loss='sparse_categorical_crossentropy',\n",
    "              metrics=['accuracy'])\n",
    "model.fit(x_train, y_train, epochs=5, verbose=1)"
   ]
  },
  {
   "cell_type": "code",
   "execution_count": 12,
   "id": "85a3005a-0fe3-4b91-84bd-70a18594d6f3",
   "metadata": {},
   "outputs": [
    {
     "name": "stdout",
     "output_type": "stream",
     "text": [
      "313/313 - 0s - 1ms/step - accuracy: 0.9821 - loss: 0.0563\n"
     ]
    },
    {
     "data": {
      "text/plain": [
       "[0.05631553381681442, 0.9821000099182129]"
      ]
     },
     "execution_count": 12,
     "metadata": {},
     "output_type": "execute_result"
    }
   ],
   "source": [
    "model.evaluate(x_test,  y_test, verbose=2)"
   ]
  },
  {
   "cell_type": "code",
   "execution_count": 20,
   "id": "3aa2dcf7-90b7-4245-bb7a-fb1febb3a121",
   "metadata": {},
   "outputs": [],
   "source": [
    "# 모델 정의\n",
    "# 은닉 계층 수 4\n",
    "model = tf.keras.models.Sequential([\n",
    "   tf.keras.layers.Conv2D(filters=32, kernel_size=(3,3), strides=(1,1), padding='same',\n",
    "                          activation='relu', input_shape=(28, 28,1)),\n",
    "   tf.keras.layers.MaxPool2D(pool_size=(2,2), strides=(2,2), padding='same'),\n",
    "   tf.keras.layers.Conv2D(filters=32, kernel_size=(2,2), strides=(1,1), padding='same', \n",
    "                          activation='relu'),\n",
    "   tf.keras.layers.MaxPool2D(pool_size=(2,2), strides=(2,2), padding='same'),\n",
    "   tf.keras.layers.Conv2D(filters=32, kernel_size=(2,2), strides=(1,1), padding='same', \n",
    "                          activation='relu'),  # 새로운 은닉 계층 추가\n",
    "       tf.keras.layers.MaxPool2D(pool_size=(2,2), strides=(2,2), padding='same'),\n",
    "   tf.keras.layers.Conv2D(filters=16, kernel_size=(2,2), strides=(1,1), padding='same', \n",
    "                          activation='relu'),  # 새로운 은닉 계층 추가\n",
    "   tf.keras.layers.MaxPool2D(pool_size=(2,2), strides=(2,2), padding='same'),\n",
    "   tf.keras.layers.Flatten(),\n",
    "   tf.keras.layers.Dense(10, activation='softmax')\n",
    "])"
   ]
  },
  {
   "cell_type": "code",
   "execution_count": 18,
   "id": "6be4889a-843b-4993-aecd-2e0bb32da656",
   "metadata": {},
   "outputs": [
    {
     "name": "stdout",
     "output_type": "stream",
     "text": [
      "Epoch 1/5\n",
      "\u001b[1m1875/1875\u001b[0m \u001b[32m━━━━━━━━━━━━━━━━━━━━\u001b[0m\u001b[37m\u001b[0m \u001b[1m6s\u001b[0m 3ms/step - accuracy: 0.7520 - loss: 0.7486\n",
      "Epoch 2/5\n",
      "\u001b[1m1875/1875\u001b[0m \u001b[32m━━━━━━━━━━━━━━━━━━━━\u001b[0m\u001b[37m\u001b[0m \u001b[1m5s\u001b[0m 3ms/step - accuracy: 0.9620 - loss: 0.1200\n",
      "Epoch 3/5\n",
      "\u001b[1m1875/1875\u001b[0m \u001b[32m━━━━━━━━━━━━━━━━━━━━\u001b[0m\u001b[37m\u001b[0m \u001b[1m5s\u001b[0m 3ms/step - accuracy: 0.9716 - loss: 0.0877\n",
      "Epoch 4/5\n",
      "\u001b[1m1875/1875\u001b[0m \u001b[32m━━━━━━━━━━━━━━━━━━━━\u001b[0m\u001b[37m\u001b[0m \u001b[1m5s\u001b[0m 3ms/step - accuracy: 0.9772 - loss: 0.0721\n",
      "Epoch 5/5\n",
      "\u001b[1m1875/1875\u001b[0m \u001b[32m━━━━━━━━━━━━━━━━━━━━\u001b[0m\u001b[37m\u001b[0m \u001b[1m5s\u001b[0m 3ms/step - accuracy: 0.9807 - loss: 0.0617\n"
     ]
    },
    {
     "data": {
      "text/plain": [
       "<keras.src.callbacks.history.History at 0x270ca39a010>"
      ]
     },
     "execution_count": 18,
     "metadata": {},
     "output_type": "execute_result"
    }
   ],
   "source": [
    "model.compile(optimizer='adam',loss='sparse_categorical_crossentropy',\n",
    "              metrics=['accuracy'])\n",
    "model.fit(x_train, y_train, epochs=5, verbose=1)"
   ]
  },
  {
   "cell_type": "code",
   "execution_count": 19,
   "id": "5f52bd95-bcb8-456f-86d8-d289ece56dc6",
   "metadata": {},
   "outputs": [
    {
     "name": "stdout",
     "output_type": "stream",
     "text": [
      "313/313 - 1s - 2ms/step - accuracy: 0.9803 - loss: 0.0562\n"
     ]
    },
    {
     "data": {
      "text/plain": [
       "[0.05618603155016899, 0.9803000092506409]"
      ]
     },
     "execution_count": 19,
     "metadata": {},
     "output_type": "execute_result"
    }
   ],
   "source": [
    "model.evaluate(x_test,  y_test, verbose=2)"
   ]
  },
  {
   "cell_type": "code",
   "execution_count": 42,
   "id": "2005e82f-9565-4194-8da5-6eb9f18e6a7b",
   "metadata": {},
   "outputs": [],
   "source": [
    "# 모델 정의\n",
    "# 필터 개수 32 * 16\n",
    "model = tf.keras.models.Sequential([\n",
    "   tf.keras.layers.Conv2D(filters=32, kernel_size=(3,3), strides=(1,1), padding='same',\n",
    "                          activation='relu', input_shape=(28, 28,1)),\n",
    "   tf.keras.layers.MaxPool2D(pool_size=(2,2), strides=(2,2), padding='same'),\n",
    "   tf.keras.layers.Conv2D(filters=16, kernel_size=(3,3), strides=(1,1), padding='same',\n",
    "                          activation='relu', input_shape=(28, 28,1)),\n",
    "   tf.keras.layers.MaxPool2D(pool_size=(2,2), strides=(2,2), padding='same'),\n",
    "   tf.keras.layers.Flatten(),\n",
    "   tf.keras.layers.Dense(10, activation='softmax')\n",
    "])"
   ]
  },
  {
   "cell_type": "code",
   "execution_count": 43,
   "id": "27863cfd-d62d-4ee6-8008-23a8fa119bd9",
   "metadata": {},
   "outputs": [
    {
     "name": "stdout",
     "output_type": "stream",
     "text": [
      "Epoch 1/5\n",
      "\u001b[1m1875/1875\u001b[0m \u001b[32m━━━━━━━━━━━━━━━━━━━━\u001b[0m\u001b[37m\u001b[0m \u001b[1m4s\u001b[0m 2ms/step - accuracy: 0.8688 - loss: 0.4474\n",
      "Epoch 2/5\n",
      "\u001b[1m1875/1875\u001b[0m \u001b[32m━━━━━━━━━━━━━━━━━━━━\u001b[0m\u001b[37m\u001b[0m \u001b[1m4s\u001b[0m 2ms/step - accuracy: 0.9762 - loss: 0.0769\n",
      "Epoch 3/5\n",
      "\u001b[1m1875/1875\u001b[0m \u001b[32m━━━━━━━━━━━━━━━━━━━━\u001b[0m\u001b[37m\u001b[0m \u001b[1m4s\u001b[0m 2ms/step - accuracy: 0.9826 - loss: 0.0569\n",
      "Epoch 4/5\n",
      "\u001b[1m1875/1875\u001b[0m \u001b[32m━━━━━━━━━━━━━━━━━━━━\u001b[0m\u001b[37m\u001b[0m \u001b[1m4s\u001b[0m 2ms/step - accuracy: 0.9866 - loss: 0.0438\n",
      "Epoch 5/5\n",
      "\u001b[1m1875/1875\u001b[0m \u001b[32m━━━━━━━━━━━━━━━━━━━━\u001b[0m\u001b[37m\u001b[0m \u001b[1m4s\u001b[0m 2ms/step - accuracy: 0.9884 - loss: 0.0364\n"
     ]
    },
    {
     "data": {
      "text/plain": [
       "<keras.src.callbacks.history.History at 0x270dcdc1390>"
      ]
     },
     "execution_count": 43,
     "metadata": {},
     "output_type": "execute_result"
    }
   ],
   "source": [
    "model.compile(optimizer='adam',loss='sparse_categorical_crossentropy',\n",
    "              metrics=['accuracy'])\n",
    "model.fit(x_train, y_train, epochs=5, verbose=1)"
   ]
  },
  {
   "cell_type": "code",
   "execution_count": 45,
   "id": "0dca3f54-9e34-4f11-97e8-4c7d3d4119f3",
   "metadata": {},
   "outputs": [
    {
     "name": "stdout",
     "output_type": "stream",
     "text": [
      "313/313 - 0s - 960us/step - accuracy: 0.9834 - loss: 0.0509\n"
     ]
    },
    {
     "data": {
      "text/plain": [
       "[0.0509311780333519, 0.9833999872207642]"
      ]
     },
     "execution_count": 45,
     "metadata": {},
     "output_type": "execute_result"
    }
   ],
   "source": [
    "model.evaluate(x_test,  y_test, verbose=2)"
   ]
  },
  {
   "cell_type": "code",
   "execution_count": 46,
   "id": "00f43649-1c94-4c77-ab6f-b717eaa4be80",
   "metadata": {},
   "outputs": [],
   "source": [
    "# 모델 정의\n",
    "# 필터 개수 64 * 16\n",
    "model = tf.keras.models.Sequential([\n",
    "   tf.keras.layers.Conv2D(filters=64, kernel_size=(3,3), strides=(1,1), padding='same',\n",
    "                          activation='relu', input_shape=(28, 28,1)),\n",
    "   tf.keras.layers.MaxPool2D(pool_size=(2,2), strides=(2,2), padding='same'),\n",
    "   tf.keras.layers.Conv2D(filters=16, kernel_size=(3,3), strides=(1,1), padding='same',\n",
    "                          activation='relu', input_shape=(28, 28,1)),\n",
    "   tf.keras.layers.MaxPool2D(pool_size=(2,2), strides=(2,2), padding='same'),\n",
    "   tf.keras.layers.Flatten(),\n",
    "   tf.keras.layers.Dense(10, activation='softmax')\n",
    "])"
   ]
  },
  {
   "cell_type": "code",
   "execution_count": null,
   "id": "76c9dacd-3f3b-4caf-b67d-e8ac8b7f9c67",
   "metadata": {},
   "outputs": [
    {
     "name": "stdout",
     "output_type": "stream",
     "text": [
      "Epoch 1/5\n",
      "\u001b[1m1875/1875\u001b[0m \u001b[32m━━━━━━━━━━━━━━━━━━━━\u001b[0m\u001b[37m\u001b[0m \u001b[1m6s\u001b[0m 3ms/step - accuracy: 0.8677 - loss: 0.4410\n",
      "Epoch 2/5\n",
      "\u001b[1m1875/1875\u001b[0m \u001b[32m━━━━━━━━━━━━━━━━━━━━\u001b[0m\u001b[37m\u001b[0m \u001b[1m5s\u001b[0m 3ms/step - accuracy: 0.9782 - loss: 0.0712\n",
      "Epoch 3/5\n",
      "\u001b[1m1875/1875\u001b[0m \u001b[32m━━━━━━━━━━━━━━━━━━━━\u001b[0m\u001b[37m\u001b[0m \u001b[1m5s\u001b[0m 3ms/step - accuracy: 0.9845 - loss: 0.0511\n",
      "Epoch 4/5\n",
      "\u001b[1m1875/1875\u001b[0m \u001b[32m━━━━━━━━━━━━━━━━━━━━\u001b[0m\u001b[37m\u001b[0m \u001b[1m5s\u001b[0m 3ms/step - accuracy: 0.9875 - loss: 0.0391\n",
      "Epoch 5/5\n",
      "\u001b[1m1373/1875\u001b[0m \u001b[32m━━━━━━━━━━━━━━\u001b[0m\u001b[37m━━━━━━\u001b[0m \u001b[1m1s\u001b[0m 3ms/step - accuracy: 0.9906 - loss: 0.0317"
     ]
    }
   ],
   "source": [
    "model.compile(optimizer='adam',loss='sparse_categorical_crossentropy',\n",
    "              metrics=['accuracy'])\n",
    "model.fit(x_train, y_train, epochs=5, verbose=1)"
   ]
  },
  {
   "cell_type": "code",
   "execution_count": null,
   "id": "9a024936-5a9b-45d8-af14-c33a7d852dff",
   "metadata": {},
   "outputs": [],
   "source": [
    "model.evaluate(x_test,  y_test, verbose=2)"
   ]
  },
  {
   "cell_type": "code",
   "execution_count": 36,
   "id": "bdb3d087-2dbb-4787-9367-e401980b5a26",
   "metadata": {},
   "outputs": [],
   "source": [
    "# 모델 정의\n",
    "# 필터 개수 128\n",
    "model = tf.keras.models.Sequential([\n",
    "   tf.keras.layers.Conv2D(filters=128, kernel_size=(3,3), strides=(1,1), padding='same',\n",
    "                          activation='relu', input_shape=(28, 28,1)),\n",
    "   tf.keras.layers.MaxPool2D(pool_size=(2,2), strides=(2,2), padding='same'),\n",
    "   tf.keras.layers.Conv2D(filters=16, kernel_size=(3,3), strides=(1,1), padding='same',\n",
    "                          activation='relu', input_shape=(28, 28,1)),\n",
    "   tf.keras.layers.MaxPool2D(pool_size=(2,2), strides=(2,2), padding='same'),\n",
    "   tf.keras.layers.Flatten(),\n",
    "   tf.keras.layers.Dense(10, activation='softmax')\n",
    "])"
   ]
  },
  {
   "cell_type": "code",
   "execution_count": 37,
   "id": "c4acd02a-4e41-4732-83b5-9adee13e0254",
   "metadata": {},
   "outputs": [
    {
     "name": "stdout",
     "output_type": "stream",
     "text": [
      "Epoch 1/5\n",
      "\u001b[1m1875/1875\u001b[0m \u001b[32m━━━━━━━━━━━━━━━━━━━━\u001b[0m\u001b[37m\u001b[0m \u001b[1m13s\u001b[0m 6ms/step - accuracy: 0.9103 - loss: 0.3026\n",
      "Epoch 2/5\n",
      "\u001b[1m1875/1875\u001b[0m \u001b[32m━━━━━━━━━━━━━━━━━━━━\u001b[0m\u001b[37m\u001b[0m \u001b[1m12s\u001b[0m 6ms/step - accuracy: 0.9819 - loss: 0.0620\n",
      "Epoch 3/5\n",
      "\u001b[1m1875/1875\u001b[0m \u001b[32m━━━━━━━━━━━━━━━━━━━━\u001b[0m\u001b[37m\u001b[0m \u001b[1m12s\u001b[0m 6ms/step - accuracy: 0.9862 - loss: 0.0468\n",
      "Epoch 4/5\n",
      "\u001b[1m1875/1875\u001b[0m \u001b[32m━━━━━━━━━━━━━━━━━━━━\u001b[0m\u001b[37m\u001b[0m \u001b[1m11s\u001b[0m 6ms/step - accuracy: 0.9902 - loss: 0.0333\n",
      "Epoch 5/5\n",
      "\u001b[1m1875/1875\u001b[0m \u001b[32m━━━━━━━━━━━━━━━━━━━━\u001b[0m\u001b[37m\u001b[0m \u001b[1m11s\u001b[0m 6ms/step - accuracy: 0.9919 - loss: 0.0258\n"
     ]
    },
    {
     "data": {
      "text/plain": [
       "<keras.src.callbacks.history.History at 0x270d3cc8650>"
      ]
     },
     "execution_count": 37,
     "metadata": {},
     "output_type": "execute_result"
    }
   ],
   "source": [
    "model.compile(optimizer='adam',loss='sparse_categorical_crossentropy',\n",
    "              metrics=['accuracy'])\n",
    "model.fit(x_train, y_train, epochs=5, verbose=1)"
   ]
  },
  {
   "cell_type": "code",
   "execution_count": 38,
   "id": "89196628-51eb-4111-98ee-7c97eca800df",
   "metadata": {},
   "outputs": [
    {
     "name": "stdout",
     "output_type": "stream",
     "text": [
      "313/313 - 1s - 2ms/step - accuracy: 0.9858 - loss: 0.0480\n"
     ]
    },
    {
     "data": {
      "text/plain": [
       "[0.04795410856604576, 0.98580002784729]"
      ]
     },
     "execution_count": 38,
     "metadata": {},
     "output_type": "execute_result"
    }
   ],
   "source": [
    "model.evaluate(x_test,  y_test, verbose=2)"
   ]
  },
  {
   "cell_type": "code",
   "execution_count": 39,
   "id": "915851e1-6239-43a4-87fb-940f931488d8",
   "metadata": {},
   "outputs": [],
   "source": [
    "# 모델 정의\n",
    "# 필터 개수 256\n",
    "model = tf.keras.models.Sequential([\n",
    "   tf.keras.layers.Conv2D(filters=256, kernel_size=(3,3), strides=(1,1), padding='same',\n",
    "                          activation='relu', input_shape=(28, 28,1)),\n",
    "   tf.keras.layers.MaxPool2D(pool_size=(2,2), strides=(2,2), padding='same'),\n",
    "   tf.keras.layers.Flatten(),\n",
    "   tf.keras.layers.Dense(10, activation='softmax')\n",
    "])"
   ]
  },
  {
   "cell_type": "code",
   "execution_count": 40,
   "id": "697254ed-467c-409e-a6cd-9ea9f2879821",
   "metadata": {},
   "outputs": [
    {
     "name": "stdout",
     "output_type": "stream",
     "text": [
      "Epoch 1/5\n",
      "\u001b[1m1875/1875\u001b[0m \u001b[32m━━━━━━━━━━━━━━━━━━━━\u001b[0m\u001b[37m\u001b[0m \u001b[1m28s\u001b[0m 15ms/step - accuracy: 0.9165 - loss: 0.2777\n",
      "Epoch 2/5\n",
      "\u001b[1m1875/1875\u001b[0m \u001b[32m━━━━━━━━━━━━━━━━━━━━\u001b[0m\u001b[37m\u001b[0m \u001b[1m27s\u001b[0m 14ms/step - accuracy: 0.9802 - loss: 0.0622\n",
      "Epoch 3/5\n",
      "\u001b[1m1875/1875\u001b[0m \u001b[32m━━━━━━━━━━━━━━━━━━━━\u001b[0m\u001b[37m\u001b[0m \u001b[1m28s\u001b[0m 15ms/step - accuracy: 0.9869 - loss: 0.0432\n",
      "Epoch 4/5\n",
      "\u001b[1m1875/1875\u001b[0m \u001b[32m━━━━━━━━━━━━━━━━━━━━\u001b[0m\u001b[37m\u001b[0m \u001b[1m28s\u001b[0m 15ms/step - accuracy: 0.9912 - loss: 0.0279\n",
      "Epoch 5/5\n",
      "\u001b[1m1875/1875\u001b[0m \u001b[32m━━━━━━━━━━━━━━━━━━━━\u001b[0m\u001b[37m\u001b[0m \u001b[1m27s\u001b[0m 14ms/step - accuracy: 0.9938 - loss: 0.0217\n"
     ]
    },
    {
     "data": {
      "text/plain": [
       "<keras.src.callbacks.history.History at 0x270d73e2ad0>"
      ]
     },
     "execution_count": 40,
     "metadata": {},
     "output_type": "execute_result"
    }
   ],
   "source": [
    "model.compile(optimizer='adam',loss='sparse_categorical_crossentropy',\n",
    "              metrics=['accuracy'])\n",
    "model.fit(x_train, y_train, epochs=5, verbose=1)"
   ]
  },
  {
   "cell_type": "code",
   "execution_count": 41,
   "id": "51813b75-c921-4ac6-b4a6-6b16faa39e26",
   "metadata": {},
   "outputs": [
    {
     "name": "stdout",
     "output_type": "stream",
     "text": [
      "313/313 - 2s - 5ms/step - accuracy: 0.9807 - loss: 0.0638\n"
     ]
    },
    {
     "data": {
      "text/plain": [
       "[0.06380219757556915, 0.9807000160217285]"
      ]
     },
     "execution_count": 41,
     "metadata": {},
     "output_type": "execute_result"
    }
   ],
   "source": [
    "model.evaluate(x_test,  y_test, verbose=2)"
   ]
  },
  {
   "cell_type": "code",
   "execution_count": null,
   "id": "f4245ecd-7b9d-4845-9cf0-cdbccda3e587",
   "metadata": {},
   "outputs": [],
   "source": []
  },
  {
   "cell_type": "code",
   "execution_count": 8,
   "id": "0d626603-ab0f-44bf-9d48-53f8f8b3e73b",
   "metadata": {},
   "outputs": [
    {
     "data": {
      "text/html": [
       "<pre style=\"white-space:pre;overflow-x:auto;line-height:normal;font-family:Menlo,'DejaVu Sans Mono',consolas,'Courier New',monospace\"><span style=\"font-weight: bold\">Model: \"sequential\"</span>\n",
       "</pre>\n"
      ],
      "text/plain": [
       "\u001b[1mModel: \"sequential\"\u001b[0m\n"
      ]
     },
     "metadata": {},
     "output_type": "display_data"
    },
    {
     "data": {
      "text/html": [
       "<pre style=\"white-space:pre;overflow-x:auto;line-height:normal;font-family:Menlo,'DejaVu Sans Mono',consolas,'Courier New',monospace\">┏━━━━━━━━━━━━━━━━━━━━━━━━━━━━━━━━━━━━━━┳━━━━━━━━━━━━━━━━━━━━━━━━━━━━━┳━━━━━━━━━━━━━━━━━┓\n",
       "┃<span style=\"font-weight: bold\"> Layer (type)                         </span>┃<span style=\"font-weight: bold\"> Output Shape                </span>┃<span style=\"font-weight: bold\">         Param # </span>┃\n",
       "┡━━━━━━━━━━━━━━━━━━━━━━━━━━━━━━━━━━━━━━╇━━━━━━━━━━━━━━━━━━━━━━━━━━━━━╇━━━━━━━━━━━━━━━━━┩\n",
       "│ conv2d (<span style=\"color: #0087ff; text-decoration-color: #0087ff\">Conv2D</span>)                      │ (<span style=\"color: #00d7ff; text-decoration-color: #00d7ff\">None</span>, <span style=\"color: #00af00; text-decoration-color: #00af00\">28</span>, <span style=\"color: #00af00; text-decoration-color: #00af00\">28</span>, <span style=\"color: #00af00; text-decoration-color: #00af00\">32</span>)          │             <span style=\"color: #00af00; text-decoration-color: #00af00\">320</span> │\n",
       "├──────────────────────────────────────┼─────────────────────────────┼─────────────────┤\n",
       "│ max_pooling2d (<span style=\"color: #0087ff; text-decoration-color: #0087ff\">MaxPooling2D</span>)         │ (<span style=\"color: #00d7ff; text-decoration-color: #00d7ff\">None</span>, <span style=\"color: #00af00; text-decoration-color: #00af00\">14</span>, <span style=\"color: #00af00; text-decoration-color: #00af00\">14</span>, <span style=\"color: #00af00; text-decoration-color: #00af00\">32</span>)          │               <span style=\"color: #00af00; text-decoration-color: #00af00\">0</span> │\n",
       "├──────────────────────────────────────┼─────────────────────────────┼─────────────────┤\n",
       "│ conv2d_1 (<span style=\"color: #0087ff; text-decoration-color: #0087ff\">Conv2D</span>)                    │ (<span style=\"color: #00d7ff; text-decoration-color: #00d7ff\">None</span>, <span style=\"color: #00af00; text-decoration-color: #00af00\">14</span>, <span style=\"color: #00af00; text-decoration-color: #00af00\">14</span>, <span style=\"color: #00af00; text-decoration-color: #00af00\">16</span>)          │           <span style=\"color: #00af00; text-decoration-color: #00af00\">2,064</span> │\n",
       "├──────────────────────────────────────┼─────────────────────────────┼─────────────────┤\n",
       "│ max_pooling2d_1 (<span style=\"color: #0087ff; text-decoration-color: #0087ff\">MaxPooling2D</span>)       │ (<span style=\"color: #00d7ff; text-decoration-color: #00d7ff\">None</span>, <span style=\"color: #00af00; text-decoration-color: #00af00\">7</span>, <span style=\"color: #00af00; text-decoration-color: #00af00\">7</span>, <span style=\"color: #00af00; text-decoration-color: #00af00\">16</span>)            │               <span style=\"color: #00af00; text-decoration-color: #00af00\">0</span> │\n",
       "├──────────────────────────────────────┼─────────────────────────────┼─────────────────┤\n",
       "│ flatten (<span style=\"color: #0087ff; text-decoration-color: #0087ff\">Flatten</span>)                    │ (<span style=\"color: #00d7ff; text-decoration-color: #00d7ff\">None</span>, <span style=\"color: #00af00; text-decoration-color: #00af00\">784</span>)                 │               <span style=\"color: #00af00; text-decoration-color: #00af00\">0</span> │\n",
       "├──────────────────────────────────────┼─────────────────────────────┼─────────────────┤\n",
       "│ dense (<span style=\"color: #0087ff; text-decoration-color: #0087ff\">Dense</span>)                        │ (<span style=\"color: #00d7ff; text-decoration-color: #00d7ff\">None</span>, <span style=\"color: #00af00; text-decoration-color: #00af00\">10</span>)                  │           <span style=\"color: #00af00; text-decoration-color: #00af00\">7,850</span> │\n",
       "└──────────────────────────────────────┴─────────────────────────────┴─────────────────┘\n",
       "</pre>\n"
      ],
      "text/plain": [
       "┏━━━━━━━━━━━━━━━━━━━━━━━━━━━━━━━━━━━━━━┳━━━━━━━━━━━━━━━━━━━━━━━━━━━━━┳━━━━━━━━━━━━━━━━━┓\n",
       "┃\u001b[1m \u001b[0m\u001b[1mLayer (type)                        \u001b[0m\u001b[1m \u001b[0m┃\u001b[1m \u001b[0m\u001b[1mOutput Shape               \u001b[0m\u001b[1m \u001b[0m┃\u001b[1m \u001b[0m\u001b[1m        Param #\u001b[0m\u001b[1m \u001b[0m┃\n",
       "┡━━━━━━━━━━━━━━━━━━━━━━━━━━━━━━━━━━━━━━╇━━━━━━━━━━━━━━━━━━━━━━━━━━━━━╇━━━━━━━━━━━━━━━━━┩\n",
       "│ conv2d (\u001b[38;5;33mConv2D\u001b[0m)                      │ (\u001b[38;5;45mNone\u001b[0m, \u001b[38;5;34m28\u001b[0m, \u001b[38;5;34m28\u001b[0m, \u001b[38;5;34m32\u001b[0m)          │             \u001b[38;5;34m320\u001b[0m │\n",
       "├──────────────────────────────────────┼─────────────────────────────┼─────────────────┤\n",
       "│ max_pooling2d (\u001b[38;5;33mMaxPooling2D\u001b[0m)         │ (\u001b[38;5;45mNone\u001b[0m, \u001b[38;5;34m14\u001b[0m, \u001b[38;5;34m14\u001b[0m, \u001b[38;5;34m32\u001b[0m)          │               \u001b[38;5;34m0\u001b[0m │\n",
       "├──────────────────────────────────────┼─────────────────────────────┼─────────────────┤\n",
       "│ conv2d_1 (\u001b[38;5;33mConv2D\u001b[0m)                    │ (\u001b[38;5;45mNone\u001b[0m, \u001b[38;5;34m14\u001b[0m, \u001b[38;5;34m14\u001b[0m, \u001b[38;5;34m16\u001b[0m)          │           \u001b[38;5;34m2,064\u001b[0m │\n",
       "├──────────────────────────────────────┼─────────────────────────────┼─────────────────┤\n",
       "│ max_pooling2d_1 (\u001b[38;5;33mMaxPooling2D\u001b[0m)       │ (\u001b[38;5;45mNone\u001b[0m, \u001b[38;5;34m7\u001b[0m, \u001b[38;5;34m7\u001b[0m, \u001b[38;5;34m16\u001b[0m)            │               \u001b[38;5;34m0\u001b[0m │\n",
       "├──────────────────────────────────────┼─────────────────────────────┼─────────────────┤\n",
       "│ flatten (\u001b[38;5;33mFlatten\u001b[0m)                    │ (\u001b[38;5;45mNone\u001b[0m, \u001b[38;5;34m784\u001b[0m)                 │               \u001b[38;5;34m0\u001b[0m │\n",
       "├──────────────────────────────────────┼─────────────────────────────┼─────────────────┤\n",
       "│ dense (\u001b[38;5;33mDense\u001b[0m)                        │ (\u001b[38;5;45mNone\u001b[0m, \u001b[38;5;34m10\u001b[0m)                  │           \u001b[38;5;34m7,850\u001b[0m │\n",
       "└──────────────────────────────────────┴─────────────────────────────┴─────────────────┘\n"
      ]
     },
     "metadata": {},
     "output_type": "display_data"
    },
    {
     "data": {
      "text/html": [
       "<pre style=\"white-space:pre;overflow-x:auto;line-height:normal;font-family:Menlo,'DejaVu Sans Mono',consolas,'Courier New',monospace\"><span style=\"font-weight: bold\"> Total params: </span><span style=\"color: #00af00; text-decoration-color: #00af00\">30,704</span> (119.94 KB)\n",
       "</pre>\n"
      ],
      "text/plain": [
       "\u001b[1m Total params: \u001b[0m\u001b[38;5;34m30,704\u001b[0m (119.94 KB)\n"
      ]
     },
     "metadata": {},
     "output_type": "display_data"
    },
    {
     "data": {
      "text/html": [
       "<pre style=\"white-space:pre;overflow-x:auto;line-height:normal;font-family:Menlo,'DejaVu Sans Mono',consolas,'Courier New',monospace\"><span style=\"font-weight: bold\"> Trainable params: </span><span style=\"color: #00af00; text-decoration-color: #00af00\">10,234</span> (39.98 KB)\n",
       "</pre>\n"
      ],
      "text/plain": [
       "\u001b[1m Trainable params: \u001b[0m\u001b[38;5;34m10,234\u001b[0m (39.98 KB)\n"
      ]
     },
     "metadata": {},
     "output_type": "display_data"
    },
    {
     "data": {
      "text/html": [
       "<pre style=\"white-space:pre;overflow-x:auto;line-height:normal;font-family:Menlo,'DejaVu Sans Mono',consolas,'Courier New',monospace\"><span style=\"font-weight: bold\"> Non-trainable params: </span><span style=\"color: #00af00; text-decoration-color: #00af00\">0</span> (0.00 B)\n",
       "</pre>\n"
      ],
      "text/plain": [
       "\u001b[1m Non-trainable params: \u001b[0m\u001b[38;5;34m0\u001b[0m (0.00 B)\n"
      ]
     },
     "metadata": {},
     "output_type": "display_data"
    },
    {
     "data": {
      "text/html": [
       "<pre style=\"white-space:pre;overflow-x:auto;line-height:normal;font-family:Menlo,'DejaVu Sans Mono',consolas,'Courier New',monospace\"><span style=\"font-weight: bold\"> Optimizer params: </span><span style=\"color: #00af00; text-decoration-color: #00af00\">20,470</span> (79.96 KB)\n",
       "</pre>\n"
      ],
      "text/plain": [
       "\u001b[1m Optimizer params: \u001b[0m\u001b[38;5;34m20,470\u001b[0m (79.96 KB)\n"
      ]
     },
     "metadata": {},
     "output_type": "display_data"
    }
   ],
   "source": [
    "model.summary()"
   ]
  },
  {
   "cell_type": "code",
   "execution_count": 9,
   "id": "a12e6a92-1b41-42ca-8657-5b8d30ee877f",
   "metadata": {},
   "outputs": [],
   "source": [
    "# 이미지 출력 함수\n",
    "def showImage(imgs, labels):\n",
    "    n=len(imgs)\n",
    "    f=plt.figure()\n",
    "    f.gca().set_axis_off()\n",
    "    plt.margins(0, 0)\n",
    "    for i in range(n):\n",
    "        if(not np.any(imgs[i])):\n",
    "            continue\n",
    "        if(n<4):\n",
    "            f.add_subplot(1,n,i+1)\n",
    "        else:\n",
    "            g_w=int(np.math.ceil(n/2))\n",
    "            f.add_subplot(2,g_w,i+1)\n",
    "        f.gca().xaxis.set_major_locator(plt.NullLocator())\n",
    "        f.gca().yaxis.set_major_locator(plt.NullLocator())\n",
    "        img=imgs[i].copy()\n",
    "        img=np.squeeze(img,axis=-1)\n",
    "        img=(img*255).astype(np.uint8)\n",
    "        plt.imshow(img, cmap='gray',vmin=0, vmax=255, interpolation='none')\n",
    "        ax=plt.gca()\n",
    "        ax.set_xlabel(labels[i],fontsize=20)\n",
    "    plt.tight_layout(pad=1)"
   ]
  },
  {
   "cell_type": "code",
   "execution_count": 13,
   "id": "fe486714-51fb-4312-91db-96911cf5d116",
   "metadata": {},
   "outputs": [
    {
     "name": "stdout",
     "output_type": "stream",
     "text": [
      "\u001b[1m1/1\u001b[0m \u001b[32m━━━━━━━━━━━━━━━━━━━━\u001b[0m\u001b[37m\u001b[0m \u001b[1m0s\u001b[0m 40ms/step\n"
     ]
    },
    {
     "name": "stderr",
     "output_type": "stream",
     "text": [
      "C:\\Users\\user\\AppData\\Local\\Temp\\ipykernel_6740\\507065313.py:12: DeprecationWarning: `np.math` is a deprecated alias for the standard library `math` module (Deprecated Numpy 1.25). Replace usages of `np.math` with `math`\n",
      "  g_w=int(np.math.ceil(n/2))\n"
     ]
    },
    {
     "data": {
      "image/png": "[encoded data removed]",
      "text/plain": [
       "<Figure size 640x480 with 31 Axes>"
      ]
     },
     "metadata": {},
     "output_type": "display_data"
    }
   ],
   "source": [
    "# 테스트 이미지를 통한 결과\n",
    "samples=np.random.choice(x_test.shape[0],30)\n",
    "x_predict=x_test[samples,:,:]\n",
    "y_predict=y_test[samples]\n",
    "result=model.predict(x_predict)\n",
    "preds=np.argmax(result, axis=1)\n",
    "showImage(x_predict, preds)"
   ]
  },
  {
   "cell_type": "code",
   "execution_count": 14,
   "id": "06227d93-8456-485c-b960-8635dd98eaa6",
   "metadata": {},
   "outputs": [
    {
     "name": "stdout",
     "output_type": "stream",
     "text": [
      "conv2d (3, 3, 1, 32)\n",
      "conv2d_1 (2, 2, 32, 16)\n"
     ]
    }
   ],
   "source": [
    "for layer in model.layers:\n",
    "    #합성곱 계층만 처리\n",
    "    if 'conv' not in layer.name:\n",
    "        continue\n",
    "    filters, biases=layer.get_weights()\n",
    "    print(layer.name,filters.shape)"
   ]
  },
  {
   "cell_type": "code",
   "execution_count": 15,
   "id": "86ad6e1c-352d-4593-8475-dcfc9a583f31",
   "metadata": {},
   "outputs": [
    {
     "data": {
      "image/png": "[encoded data removed]",
      "text/plain": [
       "<Figure size 640x480 with 12 Axes>"
      ]
     },
     "metadata": {},
     "output_type": "display_data"
    }
   ],
   "source": [
    "ix=1\n",
    "#두 합성곱 계층 탐색\n",
    "for i in [0,2]:\n",
    "    filters, biases = model.layers[i].get_weights()\n",
    "    # 필터의 값을 0-1범위로 정규화\n",
    "    f_min, f_max = filters.min(), filters.max()\n",
    "    filters = (filters - f_min) / (f_max - f_min)\n",
    "    # 각 계층마다 처음 6개의 필터를 시각화\n",
    "    for j in range(6):\n",
    "        f = filters[:, :, :, j]\n",
    "        #for j in range(3):\n",
    "        ax = plt.subplot(2, 6, ix)\n",
    "        ax.set_xticks([])\n",
    "        ax.set_yticks([])\n",
    "        plt.imshow(f[:, :, 0], cmap='gray')\n",
    "        ix += 1\n",
    "plt.tight_layout(pad=1)\n",
    "plt.show()"
   ]
  },
  {
   "cell_type": "code",
   "execution_count": 16,
   "id": "44165de4-8aaf-4580-850f-6395b4944ce1",
   "metadata": {},
   "outputs": [
    {
     "name": "stdout",
     "output_type": "stream",
     "text": [
      "\u001b[1m1/1\u001b[0m \u001b[32m━━━━━━━━━━━━━━━━━━━━\u001b[0m\u001b[37m\u001b[0m \u001b[1m0s\u001b[0m 79ms/step\n"
     ]
    },
    {
     "data": {
      "image/png": "[encoded data removed]",
      "text/plain": [
       "<Figure size 800x800 with 33 Axes>"
      ]
     },
     "metadata": {},
     "output_type": "display_data"
    }
   ],
   "source": [
    "#특징맵을 시각화하기 위한 모델 수정\n",
    "new_model=tf.keras.Model(inputs=model.inputs, outputs=model.layers[0].output)\n",
    "samples=np.random.choice(x_test.shape[0])\n",
    "x_predict=x_test[samples,:,:]\n",
    "y_predict=y_test[samples]\n",
    "x_predict=np.expand_dims(x_predict, axis = 0)\n",
    "result=new_model.predict(x_predict)\n",
    "plt.figure(figsize=(8,8))\n",
    "ax=plt.subplot(6,6,1)\n",
    "ax.set_xticks([])\n",
    "ax.set_yticks([])\n",
    "ax.set_xlabel('input image',fontsize=12)\n",
    "plt.imshow(np.squeeze(x_predict,axis=(0,3)),cmap='gray')\n",
    "for i in range(32):\n",
    "    ax=plt.subplot(6,6,i+2)\n",
    "    ax.set_xticks([])\n",
    "    ax.set_yticks([])\n",
    "    ax.set_xlabel('figure '+str(i+1),fontsize=12)\n",
    "    plt.imshow(result[0, :, :, i], cmap='gray')\n",
    "plt.tight_layout(pad=1)"
   ]
  },
  {
   "cell_type": "code",
   "execution_count": 17,
   "id": "5fc62d8b-a0ed-4e99-b403-53311a202455",
   "metadata": {},
   "outputs": [
    {
     "name": "stdout",
     "output_type": "stream",
     "text": [
      "\u001b[1m1/1\u001b[0m \u001b[32m━━━━━━━━━━━━━━━━━━━━\u001b[0m\u001b[37m\u001b[0m \u001b[1m0s\u001b[0m 109ms/step\n"
     ]
    },
    {
     "data": {
      "image/png": "[encoded data removed]",
      "text/plain": [
       "<Figure size 1200x500 with 17 Axes>"
      ]
     },
     "metadata": {},
     "output_type": "display_data"
    }
   ],
   "source": [
    "#특징맵을 시각화하기 위한 모델 수정\n",
    "new_model2=tf.keras.Model(inputs=model.inputs, outputs=model.layers[2].output)\n",
    "result=new_model2.predict(x_predict)\n",
    "plt.figure(figsize=(12,5))\n",
    "ax=plt.subplot(2,9,1)\n",
    "ax.set_xticks([])\n",
    "ax.set_yticks([])\n",
    "ax.set_xlabel('input image',fontsize=12)\n",
    "plt.imshow(np.squeeze(x_predict,axis=(0,3)),cmap='gray')\n",
    "for i in range(16):\n",
    "    ax=plt.subplot(2,9,i+2)\n",
    "    ax.set_xticks([])\n",
    "    ax.set_yticks([])\n",
    "    ax.set_xlabel('figure '+str(i+1),fontsize=12)\n",
    "    plt.imshow(result[0, :, :, i], cmap='gray')\n",
    "plt.tight_layout(pad=1)"
   ]
  }
 ],
 "metadata": {
  "kernelspec": {
   "display_name": "Python 3 (ipykernel)",
   "language": "python",
   "name": "python3"
  },
  "language_info": {
   "codemirror_mode": {
    "name": "ipython",
    "version": 3
   },
   "file_extension": ".py",
   "mimetype": "text/x-python",
   "name": "python",
   "nbconvert_exporter": "python",
   "pygments_lexer": "ipython3",
   "version": "3.11.7"
  }
 },
 "nbformat": 4,
 "nbformat_minor": 5
}
