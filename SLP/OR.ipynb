{
 "cells": [
  {
   "cell_type": "code",
   "execution_count": 1,
   "id": "dd07adce-2b4d-4f9b-b86e-48a1259cb221",
   "metadata": {},
   "outputs": [
    {
     "name": "stdout",
     "output_type": "stream",
     "text": [
      "before training\n",
      "[array([[-1.3217207 ],\n",
      "       [-0.32510495]], dtype=float32), array([0.], dtype=float32)]\n"
     ]
    },
    {
     "name": "stderr",
     "output_type": "stream",
     "text": [
      "C:\\Users\\user\\anaconda3\\Lib\\site-packages\\keras\\src\\layers\\core\\dense.py:85: UserWarning: Do not pass an `input_shape`/`input_dim` argument to a layer. When using Sequential models, prefer using an `Input(shape)` object as the first layer in the model instead.\n",
      "  super().__init__(activity_regularizer=activity_regularizer, **kwargs)\n"
     ]
    }
   ],
   "source": [
    "import tensorflow as tf\n",
    "import numpy as np\n",
    "# AND\n",
    "x_train = np.array([[0, 0],\n",
    "                  [0, 1],\n",
    "                  [1, 0],\n",
    "                  [1, 1]], dtype=np.float32)\n",
    "y_train = np.array([[0],\n",
    "                  [1],\n",
    "                  [1],\n",
    "                  [1]], dtype=np.float32)\n",
    "#초기화\n",
    "model = tf.keras.models.Sequential()\n",
    "model.add(tf.keras.layers.Dense(1, input_dim = 2, activation='sigmoid'))\n",
    "sgd = tf.keras.optimizers.SGD(learning_rate=0.05)\n",
    "model.compile(loss='mean_squared_error',optimizer=sgd)\n",
    "#학습 전 가중치 \n",
    "print('before training')\n",
    "for layer in model.layers:\n",
    "    print(layer.get_weights())"
   ]
  },
  {
   "cell_type": "code",
   "execution_count": 2,
   "id": "134de16f-bc0d-4c5c-8bb2-65c27800e115",
   "metadata": {},
   "outputs": [
    {
     "name": "stdout",
     "output_type": "stream",
     "text": [
      "result\n",
      "\u001b[1m1/1\u001b[0m \u001b[32m━━━━━━━━━━━━━━━━━━━━\u001b[0m\u001b[37m\u001b[0m \u001b[1m0s\u001b[0m 67ms/step\n",
      "[[0.4852118]\n",
      " [0.7989931]\n",
      " [0.7540465]\n",
      " [0.9282088]]\n",
      "after training\n",
      "[array([[1.1794816],\n",
      "       [1.4391835]], dtype=float32), array([-0.05917008], dtype=float32)]\n"
     ]
    }
   ],
   "source": [
    "#학습\n",
    "model.fit(x_train, y_train, epochs=1000,  verbose=0)\n",
    "#결과\n",
    "print('result')\n",
    "print(model.predict(x_train))\n",
    "#학습 후 가중치\n",
    "print('after training')\n",
    "for layer in model.layers:\n",
    "    print(layer.get_weights())"
   ]
  },
  {
   "cell_type": "code",
   "execution_count": 3,
   "id": "84bf07b0-2101-4564-8086-b7c42565f805",
   "metadata": {},
   "outputs": [
    {
     "name": "stdout",
     "output_type": "stream",
     "text": [
      "result\n",
      "\u001b[1m1/1\u001b[0m \u001b[32m━━━━━━━━━━━━━━━━━━━━\u001b[0m\u001b[37m\u001b[0m \u001b[1m0s\u001b[0m 39ms/step\n",
      "[[0.16848288]\n",
      " [0.89850837]\n",
      " [0.8978788 ]\n",
      " [0.9974037 ]]\n",
      "after training\n",
      "[array([[3.7702928],\n",
      "       [3.7771773]], dtype=float32), array([-1.5964177], dtype=float32)]\n"
     ]
    }
   ],
   "source": [
    "#학습\n",
    "model.fit(x_train, y_train, epochs=5000,  verbose=0)\n",
    "#결과\n",
    "print('result')\n",
    "print(model.predict(x_train))\n",
    "#학습 후 가중치\n",
    "print('after training')\n",
    "for layer in model.layers:\n",
    "    print(layer.get_weights())"
   ]
  },
  {
   "cell_type": "code",
   "execution_count": null,
   "id": "69bb1bb3-0bff-4b59-923e-e14ffaef6957",
   "metadata": {},
   "outputs": [],
   "source": []
  }
 ],
 "metadata": {
  "kernelspec": {
   "display_name": "Python 3 (ipykernel)",
   "language": "python",
   "name": "python3"
  },
  "language_info": {
   "codemirror_mode": {
    "name": "ipython",
    "version": 3
   },
   "file_extension": ".py",
   "mimetype": "text/x-python",
   "name": "python",
   "nbconvert_exporter": "python",
   "pygments_lexer": "ipython3",
   "version": "3.11.7"
  }
 },
 "nbformat": 4,
 "nbformat_minor": 5
}
