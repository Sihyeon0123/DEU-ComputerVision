{
 "cells": [
  {
   "cell_type": "code",
   "execution_count": 1,
   "id": "dd07adce-2b4d-4f9b-b86e-48a1259cb221",
   "metadata": {},
   "outputs": [
    {
     "name": "stdout",
     "output_type": "stream",
     "text": [
      "before training\n",
      "[array([[-1.3240203 ],\n",
      "       [ 0.18278813]], dtype=float32), array([0.], dtype=float32)]\n"
     ]
    },
    {
     "name": "stderr",
     "output_type": "stream",
     "text": [
      "C:\\Users\\user\\anaconda3\\Lib\\site-packages\\keras\\src\\layers\\core\\dense.py:85: UserWarning: Do not pass an `input_shape`/`input_dim` argument to a layer. When using Sequential models, prefer using an `Input(shape)` object as the first layer in the model instead.\n",
      "  super().__init__(activity_regularizer=activity_regularizer, **kwargs)\n"
     ]
    }
   ],
   "source": [
    "import tensorflow as tf\n",
    "import numpy as np\n",
    "# AND\n",
    "x_train = np.array([[0, 0],\n",
    "                  [0, 1],\n",
    "                  [1, 0],\n",
    "                  [1, 1]], dtype=np.float32)\n",
    "y_train = np.array([[0],\n",
    "                  [1],\n",
    "                  [1],\n",
    "                  [1]], dtype=np.float32)\n",
    "#초기화\n",
    "model = tf.keras.models.Sequential()\n",
    "model.add(tf.keras.layers.Dense(1, input_dim = 2, activation='sigmoid'))\n",
    "sgd = tf.keras.optimizers.SGD(learning_rate=0.05)\n",
    "model.compile(loss='mean_squared_error',optimizer=sgd)\n",
    "#학습 전 가중치 \n",
    "print('before training')\n",
    "for layer in model.layers:\n",
    "    print(layer.get_weights())"
   ]
  },
  {
   "cell_type": "code",
   "execution_count": null,
   "id": "134de16f-bc0d-4c5c-8bb2-65c27800e115",
   "metadata": {},
   "outputs": [],
   "source": [
    "#학습\n",
    "model.fit(x_train, y_train, epochs=1000,  verbose=0)\n",
    "#결과\n",
    "print('result')\n",
    "print(model.predict(x_train))\n",
    "#학습 후 가중치\n",
    "print('after training')\n",
    "for layer in model.layers:\n",
    "    print(layer.get_weights())"
   ]
  }
 ],
 "metadata": {
  "kernelspec": {
   "display_name": "Python 3 (ipykernel)",
   "language": "python",
   "name": "python3"
  },
  "language_info": {
   "codemirror_mode": {
    "name": "ipython",
    "version": 3
   },
   "file_extension": ".py",
   "mimetype": "text/x-python",
   "name": "python",
   "nbconvert_exporter": "python",
   "pygments_lexer": "ipython3",
   "version": "3.11.7"
  }
 },
 "nbformat": 4,
 "nbformat_minor": 5
}
