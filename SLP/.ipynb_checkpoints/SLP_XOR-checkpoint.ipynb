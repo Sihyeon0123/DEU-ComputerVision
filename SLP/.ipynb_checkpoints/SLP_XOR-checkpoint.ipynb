{
 "cells": [
  {
   "cell_type": "code",
   "execution_count": 1,
   "id": "1103e7ef-0d4e-410e-8066-92fe8f63285f",
   "metadata": {},
   "outputs": [],
   "source": [
    "import tensorflow as tf\n",
    "import numpy as np"
   ]
  },
  {
   "cell_type": "code",
   "execution_count": 2,
   "id": "39863ab6-5637-4359-9fad-a43c2727daaf",
   "metadata": {},
   "outputs": [],
   "source": [
    "# AND\n",
    "x_train = np.array([[0, 0],\n",
    "                    [0, 1],\n",
    "                    [1, 0],\n",
    "                    [1, 1]], dtype=np.float32)\n",
    "y_train = np.array([[0],\n",
    "                    [1],\n",
    "                    [1],\n",
    "                    [0]], dtype=np.float32)"
   ]
  },
  {
   "cell_type": "code",
   "execution_count": 3,
   "id": "a478ccef-e066-4be5-8765-b7eddf53fdbb",
   "metadata": {},
   "outputs": [
    {
     "name": "stderr",
     "output_type": "stream",
     "text": [
      "C:\\Users\\user\\anaconda3\\Lib\\site-packages\\keras\\src\\layers\\core\\dense.py:85: UserWarning: Do not pass an `input_shape`/`input_dim` argument to a layer. When using Sequential models, prefer using an `Input(shape)` object as the first layer in the model instead.\n",
      "  super().__init__(activity_regularizer=activity_regularizer, **kwargs)\n"
     ]
    }
   ],
   "source": [
    "#초기화\n",
    "model = tf.keras.models.Sequential()\n",
    "model.add(tf.keras.layers.Dense(1, input_dim = 2, activation='sigmoid'))\n",
    "sgd = tf.keras.optimizers.SGD(learning_rate=0.05)\n",
    "model.compile(loss='mean_squared_error',optimizer=sgd)"
   ]
  },
  {
   "cell_type": "code",
   "execution_count": 4,
   "id": "d4511adb-637f-45a2-be96-b0031f8c0339",
   "metadata": {},
   "outputs": [
    {
     "name": "stdout",
     "output_type": "stream",
     "text": [
      "before training\n",
      "[array([[-0.94499946],\n",
      "       [ 0.9514426 ]], dtype=float32), array([0.], dtype=float32)]\n"
     ]
    }
   ],
   "source": [
    "#학습 전 가중치 \n",
    "print('before training')\n",
    "for layer in model.layers:\n",
    "    print(layer.get_weights())"
   ]
  },
  {
   "cell_type": "code",
   "execution_count": 5,
   "id": "b7ad4be6-c07a-4770-8ae2-ce3b517929d1",
   "metadata": {},
   "outputs": [
    {
     "name": "stdout",
     "output_type": "stream",
     "text": [
      "result\n",
      "\u001b[1m1/1\u001b[0m \u001b[32m━━━━━━━━━━━━━━━━━━━━\u001b[0m\u001b[37m\u001b[0m \u001b[1m0s\u001b[0m 79ms/step\n",
      "[[0.49987394]\n",
      " [0.5001128 ]\n",
      " [0.49984762]\n",
      " [0.5000865 ]]\n",
      "after training\n",
      "[array([[-0.00010522],\n",
      "       [ 0.0009555 ]], dtype=float32), array([-0.00050431], dtype=float32)]\n"
     ]
    }
   ],
   "source": [
    "#학습\n",
    "model.fit(x_train, y_train, epochs=5000,  verbose=0)\n",
    "\n",
    "#결과\n",
    "print('result')\n",
    "print(model.predict(x_train))\n",
    "\n",
    "#학습 후 가중치\n",
    "print('after training')\n",
    "for layer in model.layers:\n",
    "    print(layer.get_weights())"
   ]
  }
 ],
 "metadata": {
  "kernelspec": {
   "display_name": "Python 3 (ipykernel)",
   "language": "python",
   "name": "python3"
  },
  "language_info": {
   "codemirror_mode": {
    "name": "ipython",
    "version": 3
   },
   "file_extension": ".py",
   "mimetype": "text/x-python",
   "name": "python",
   "nbconvert_exporter": "python",
   "pygments_lexer": "ipython3",
   "version": "3.11.7"
  }
 },
 "nbformat": 4,
 "nbformat_minor": 5
}
