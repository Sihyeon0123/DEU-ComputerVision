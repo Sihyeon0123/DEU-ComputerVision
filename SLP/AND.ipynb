{
 "cells": [
  {
   "cell_type": "code",
   "execution_count": 1,
   "id": "1103e7ef-0d4e-410e-8066-92fe8f63285f",
   "metadata": {},
   "outputs": [],
   "source": [
    "import tensorflow as tf\n",
    "import numpy as np"
   ]
  },
  {
   "cell_type": "code",
   "execution_count": 2,
   "id": "39863ab6-5637-4359-9fad-a43c2727daaf",
   "metadata": {},
   "outputs": [],
   "source": [
    "# AND\n",
    "x_train = np.array([[0, 0],\n",
    "                  [0, 1],\n",
    "                  [1, 0],\n",
    "                  [1, 1]], dtype=np.float32)\n",
    "y_train = np.array([[0],\n",
    "                  [0],\n",
    "                  [0],\n",
    "                  [1]], dtype=np.float32)"
   ]
  },
  {
   "cell_type": "code",
   "execution_count": 3,
   "id": "a478ccef-e066-4be5-8765-b7eddf53fdbb",
   "metadata": {},
   "outputs": [
    {
     "name": "stderr",
     "output_type": "stream",
     "text": [
      "C:\\Users\\user\\anaconda3\\Lib\\site-packages\\keras\\src\\layers\\core\\dense.py:85: UserWarning: Do not pass an `input_shape`/`input_dim` argument to a layer. When using Sequential models, prefer using an `Input(shape)` object as the first layer in the model instead.\n",
      "  super().__init__(activity_regularizer=activity_regularizer, **kwargs)\n"
     ]
    }
   ],
   "source": [
    "#초기화\n",
    "model = tf.keras.models.Sequential()\n",
    "model.add(tf.keras.layers.Dense(1, input_dim = 2, activation='sigmoid'))\n",
    "sgd = tf.keras.optimizers.SGD(learning_rate=0.05)\n",
    "model.compile(loss='mean_squared_error',optimizer=sgd)"
   ]
  },
  {
   "cell_type": "code",
   "execution_count": 4,
   "id": "d4511adb-637f-45a2-be96-b0031f8c0339",
   "metadata": {},
   "outputs": [
    {
     "name": "stdout",
     "output_type": "stream",
     "text": [
      "before training\n",
      "[array([[ 0.98073757],\n",
      "       [-0.11015332]], dtype=float32), array([0.], dtype=float32)]\n"
     ]
    }
   ],
   "source": [
    "#학습 전 가중치 \n",
    "print('before training')\n",
    "for layer in model.layers:\n",
    "    print(layer.get_weights())"
   ]
  },
  {
   "cell_type": "code",
   "execution_count": 6,
   "id": "b7ad4be6-c07a-4770-8ae2-ce3b517929d1",
   "metadata": {},
   "outputs": [
    {
     "name": "stdout",
     "output_type": "stream",
     "text": [
      "result\n",
      "\u001b[1m1/1\u001b[0m \u001b[32m━━━━━━━━━━━━━━━━━━━━\u001b[0m\u001b[37m\u001b[0m \u001b[1m0s\u001b[0m 44ms/step\n",
      "[[0.0000000e+00]\n",
      " [4.7504902e-05]\n",
      " [4.7504902e-05]\n",
      " [9.9993229e-01]]\n",
      "after training\n",
      "[array([[0.9998848],\n",
      "       [0.9998848]], dtype=float32), array([-0.9998373], dtype=float32)]\n"
     ]
    }
   ],
   "source": [
    "#학습\n",
    "model.fit(x_train, y_train, epochs=1000,  verbose=0)\n",
    "\n",
    "#결과\n",
    "print('result')\n",
    "print(model.predict(x_train))\n",
    "\n",
    "#학습 후 가중치\n",
    "print('after training')\n",
    "for layer in model.layers:\n",
    "    print(layer.get_weights())"
   ]
  },
  {
   "cell_type": "code",
   "execution_count": 17,
   "id": "bd9a6143-3949-4693-9ff1-0f1b15e0c98b",
   "metadata": {},
   "outputs": [
    {
     "name": "stdout",
     "output_type": "stream",
     "text": [
      "result\n",
      "\u001b[1m1/1\u001b[0m \u001b[32m━━━━━━━━━━━━━━━━━━━━\u001b[0m\u001b[37m\u001b[0m \u001b[1m0s\u001b[0m 23ms/step\n",
      "[[0.00258284]\n",
      " [0.11358289]\n",
      " [0.11357678]\n",
      " [0.8637639 ]]\n",
      "after training\n",
      "[array([[3.9015653],\n",
      "       [3.901626 ]], dtype=float32), array([-5.9562807], dtype=float32)]\n"
     ]
    }
   ],
   "source": [
    "#학습\n",
    "model.fit(x_train, y_train, epochs=5000,  verbose=0)\n",
    "#결과\n",
    "print('result')\n",
    "print(model.predict(x_train))\n",
    "#학습 후 가중치\n",
    "print('after training')\n",
    "for layer in model.layers:\n",
    "    print(layer.get_weights())"
   ]
  },
  {
   "cell_type": "code",
   "execution_count": 7,
   "id": "f6867cd5-4ed2-41f7-afcd-42d2b62a95e3",
   "metadata": {},
   "outputs": [],
   "source": [
    "#초기화\n",
    "model = tf.keras.models.Sequential()\n",
    "model.add(tf.keras.layers.Dense(1, input_dim = 2, activation='relu'))\n",
    "sgd = tf.keras.optimizers.SGD(learning_rate=0.05)\n",
    "model.compile(loss='mean_squared_error',optimizer=sgd)"
   ]
  },
  {
   "cell_type": "code",
   "execution_count": 8,
   "id": "d852c94c-6811-48b3-aba1-8b541b2ea45b",
   "metadata": {},
   "outputs": [
    {
     "name": "stdout",
     "output_type": "stream",
     "text": [
      "result\n",
      "\u001b[1m1/1\u001b[0m \u001b[32m━━━━━━━━━━━━━━━━━━━━\u001b[0m\u001b[37m\u001b[0m \u001b[1m0s\u001b[0m 68ms/step\n",
      "[[0.0000000e+00]\n",
      " [2.3841858e-06]\n",
      " [2.3841858e-06]\n",
      " [9.9999642e-01]]\n",
      "after training\n",
      "[array([[0.99999404],\n",
      "       [0.99999404]], dtype=float32), array([-0.99999166], dtype=float32)]\n"
     ]
    }
   ],
   "source": [
    "#학습\n",
    "model.fit(x_train, y_train, epochs=5000,  verbose=0)\n",
    "#결과\n",
    "print('result')\n",
    "print(model.predict(x_train))\n",
    "#학습 후 가중치\n",
    "print('after training')\n",
    "for layer in model.layers:\n",
    "    print(layer.get_weights())"
   ]
  },
  {
   "cell_type": "code",
   "execution_count": null,
   "id": "6de5f150-5c03-4c6a-ab17-330f4993f4f5",
   "metadata": {},
   "outputs": [],
   "source": []
  }
 ],
 "metadata": {
  "kernelspec": {
   "display_name": "Python 3 (ipykernel)",
   "language": "python",
   "name": "python3"
  },
  "language_info": {
   "codemirror_mode": {
    "name": "ipython",
    "version": 3
   },
   "file_extension": ".py",
   "mimetype": "text/x-python",
   "name": "python",
   "nbconvert_exporter": "python",
   "pygments_lexer": "ipython3",
   "version": "3.11.7"
  }
 },
 "nbformat": 4,
 "nbformat_minor": 5
}
